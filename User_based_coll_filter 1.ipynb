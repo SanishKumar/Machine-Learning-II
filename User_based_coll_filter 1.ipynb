{
  "nbformat": 4,
  "nbformat_minor": 0,
  "metadata": {
    "colab": {
      "provenance": []
    },
    "kernelspec": {
      "name": "python3",
      "display_name": "Python 3"
    },
    "language_info": {
      "name": "python"
    }
  },
  "cells": [
    {
      "cell_type": "code",
      "execution_count": null,
      "metadata": {
        "id": "1jDI1efh8TxW"
      },
      "outputs": [],
      "source": [
        "import numpy as np\n",
        "from sklearn.metrics.pairwise import cosine_similarity\n",
        "\n",
        "# Sample user-item interaction matrix (rows: users, columns: items)\n",
        "user_item_matrix = np.array([\n",
        "    [5, 3, 0, 1],\n",
        "    [4, 0, 4, 0],\n",
        "    [0, 2, 1, 4],\n",
        "    [1, 0, 5, 4]\n",
        "])\n",
        "\n",
        "# Compute similarity between users using cosine similarity\n",
        "user_similarity = cosine_similarity(user_item_matrix)\n",
        "\n",
        "# Function to generate recommendations for a target user\n",
        "def get_user_based_recommendations(user_id, user_similarity, user_item_matrix,\n",
        "                                   num_recommendations=3):\n",
        "    # Get user similarities for the target user\n",
        "    user_similarities = user_similarity[user_id]\n",
        "\n",
        "    # Sort users by similarity (higher similarity first)\n",
        "    similar_users_sorted = np.argsort(user_similarities)[::-1]\n",
        "\n",
        "    # Get items that the target user has not interacted with (rating = 0)\n",
        "    unrated_items = np.where(user_item_matrix[user_id] == 0)[0]\n",
        "\n",
        "    # Generate recommendations based on similar users\n",
        "    recommendations = []\n",
        "    for user in similar_users_sorted:\n",
        "        for item in unrated_items:\n",
        "            if user_item_matrix[user, item] > 0:\n",
        "                recommendations.append((item, user_item_matrix[user, item]))\n",
        "\n",
        "    # Sort recommendations by item rating (higher rating first)\n",
        "    recommendations.sort(key=lambda x: x[1], reverse=True)\n",
        "\n",
        "    # Extract recommended items\n",
        "    recommended_items = [item for item, _ in recommendations[:num_recommendations]]\n",
        "    return recommended_items\n",
        "\n",
        "# Sample target user (index)\n",
        "target_user_id = 1\n",
        "\n",
        "# Get recommendations for the target user\n",
        "recommendations = get_user_based_recommendations(target_user_id,\n",
        "                                                 user_similarity,\n",
        "                                                 user_item_matrix)\n",
        "\n",
        "# Display recommended items for the target user\n",
        "print(\"Recommended items for the target user:\")\n",
        "for item_id in recommendations:\n",
        "    print(f\"Item {item_id}\")\n"
      ]
    },
    {
      "cell_type": "code",
      "source": [],
      "metadata": {
        "id": "_4wC6m_3rw4t"
      },
      "execution_count": null,
      "outputs": []
    }
  ]
}