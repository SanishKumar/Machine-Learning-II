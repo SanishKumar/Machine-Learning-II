{
  "nbformat": 4,
  "nbformat_minor": 0,
  "metadata": {
    "colab": {
      "provenance": []
    },
    "kernelspec": {
      "name": "python3",
      "display_name": "Python 3"
    },
    "language_info": {
      "name": "python"
    }
  },
  "cells": [
    {
      "cell_type": "code",
      "execution_count": null,
      "metadata": {
        "colab": {
          "base_uri": "https://localhost:8080/"
        },
        "id": "THQros-x4v_t",
        "outputId": "06f4249e-b184-44be-b760-ef6b7919166a"
      },
      "outputs": [
        {
          "output_type": "stream",
          "name": "stdout",
          "text": [
            "Recommended movies based on your choice (Movie A): ['Movie C', 'Movie B', 'Movie D', 'Movie E']\n"
          ]
        }
      ],
      "source": [
        "import pandas as pd\n",
        "from sklearn.feature_extraction.text import TfidfVectorizer\n",
        "from sklearn.metrics.pairwise import linear_kernel\n",
        "\n",
        "# Sample movie data with descriptions\n",
        "movies_data = {\n",
        "    'movie_id': [1, 2, 3, 4, 5],\n",
        "    'title': ['Movie A', 'Movie B', 'Movie C', 'Movie D', 'Movie E'],\n",
        "    'description': [\n",
        "        'An action-packed adventure in a distant world.',\n",
        "        'A heartwarming drama filled with romance and emotions.',\n",
        "        'A thrilling action movie set in a futuristic world.',\n",
        "        'A tense drama with unexpected twists and turns.',\n",
        "        'A hilarious comedy that will keep you laughing.']\n",
        "}\n",
        "# Convert movie data to a pandas DataFrame\n",
        "movies_df = pd.DataFrame(movies_data)\n",
        "\n",
        "# Create a TF-IDF vectorizer\n",
        "tfidf_vectorizer = TfidfVectorizer(stop_words='english')\n",
        "tfidf_matrix = tfidf_vectorizer.fit_transform(movies_df['description'])\n",
        "\n",
        "# Compute cosine similarity\n",
        "cosine_similarities = linear_kernel(tfidf_matrix, tfidf_matrix)\n",
        "\n",
        "# Function to get movie recommendations based on descriptions\n",
        "def get_movie_recommendations(movie_id, num_recommendations=5):\n",
        "    similar_movies = list(enumerate(cosine_similarities[movie_id]))\n",
        "    sorted_similar_movies = sorted(similar_movies,\n",
        "                                   key=lambda x: x[1], reverse=True)\n",
        "    recommended_movies = []\n",
        "    for movie in sorted_similar_movies[1:num_recommendations + 1]:\n",
        "        movie_id, _ = movie\n",
        "        recommended_movies.append(movies_df.loc[movies_df['movie_id']\n",
        "                                                == movie_id + 1,\n",
        "                                                 'title'].values[0])\n",
        "    return recommended_movies\n",
        "\n",
        "# Sample user's movie choice\n",
        "user_movie_id = 0  # Assuming the user likes Movie A, corrected index\n",
        "\n",
        "# Recommend movies to the user based on their chosen movie\n",
        "recommended_movies = get_movie_recommendations(user_movie_id)\n",
        "\n",
        "# Display recommended movies\n",
        "print(f\"Recommended movies based on your choice (Movie A): {recommended_movies}\")\n"
      ]
    },
    {
      "cell_type": "code",
      "source": [],
      "metadata": {
        "id": "A8Kao2OMitKl"
      },
      "execution_count": null,
      "outputs": []
    }
  ]
}