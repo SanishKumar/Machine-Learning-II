{
  "nbformat": 4,
  "nbformat_minor": 0,
  "metadata": {
    "colab": {
      "provenance": []
    },
    "kernelspec": {
      "name": "python3",
      "display_name": "Python 3"
    },
    "language_info": {
      "name": "python"
    }
  },
  "cells": [
    {
      "cell_type": "code",
      "execution_count": null,
      "metadata": {
        "id": "--ayoAIfOlBd",
        "outputId": "a22a18d9-0990-4f55-ed01-0d18863b0c31",
        "colab": {
          "base_uri": "https://localhost:8080/",
          "height": 366
        }
      },
      "outputs": [
        {
          "output_type": "error",
          "ename": "NameError",
          "evalue": "ignored",
          "traceback": [
            "\u001b[0;31m---------------------------------------------------------------------------\u001b[0m",
            "\u001b[0;31mNameError\u001b[0m                                 Traceback (most recent call last)",
            "\u001b[0;32m<ipython-input-1-33c7069456ff>\u001b[0m in \u001b[0;36m<cell line: 56>\u001b[0;34m()\u001b[0m\n\u001b[1;32m     64\u001b[0m     ]\n\u001b[1;32m     65\u001b[0m \u001b[0;34m\u001b[0m\u001b[0m\n\u001b[0;32m---> 66\u001b[0;31m     \u001b[0msolved_sudoku\u001b[0m \u001b[0;34m=\u001b[0m \u001b[0msudoku_solver\u001b[0m\u001b[0;34m.\u001b[0m\u001b[0msolve\u001b[0m\u001b[0;34m(\u001b[0m\u001b[0msudoku_puzzle\u001b[0m\u001b[0;34m)\u001b[0m\u001b[0;34m\u001b[0m\u001b[0;34m\u001b[0m\u001b[0m\n\u001b[0m\u001b[1;32m     67\u001b[0m     \u001b[0mprint\u001b[0m\u001b[0;34m(\u001b[0m\u001b[0;34m\"Solved Sudoku:\"\u001b[0m\u001b[0;34m)\u001b[0m\u001b[0;34m\u001b[0m\u001b[0;34m\u001b[0m\u001b[0m\n\u001b[1;32m     68\u001b[0m     \u001b[0mprint\u001b[0m\u001b[0;34m(\u001b[0m\u001b[0mnp\u001b[0m\u001b[0;34m.\u001b[0m\u001b[0marray\u001b[0m\u001b[0;34m(\u001b[0m\u001b[0msolved_sudoku\u001b[0m\u001b[0;34m)\u001b[0m\u001b[0;34m)\u001b[0m\u001b[0;34m\u001b[0m\u001b[0;34m\u001b[0m\u001b[0m\n",
            "\u001b[0;32m<ipython-input-1-33c7069456ff>\u001b[0m in \u001b[0;36msolve\u001b[0;34m(self, sudoku_board, max_episodes)\u001b[0m\n\u001b[1;32m     35\u001b[0m                 \u001b[0;31m# and invalid placements get a reward of -1\u001b[0m\u001b[0;34m\u001b[0m\u001b[0;34m\u001b[0m\u001b[0m\n\u001b[1;32m     36\u001b[0m                 \u001b[0;31m# Update the Sudoku board with the chosen action\u001b[0m\u001b[0;34m\u001b[0m\u001b[0;34m\u001b[0m\u001b[0m\n\u001b[0;32m---> 37\u001b[0;31m                 \u001b[0mnext_state\u001b[0m \u001b[0;34m=\u001b[0m \u001b[0mself\u001b[0m\u001b[0;34m.\u001b[0m\u001b[0mget_state\u001b[0m\u001b[0;34m(\u001b[0m\u001b[0mupdated_sudoku_board\u001b[0m\u001b[0;34m)\u001b[0m\u001b[0;34m\u001b[0m\u001b[0;34m\u001b[0m\u001b[0m\n\u001b[0m\u001b[1;32m     38\u001b[0m                 \u001b[0mreward\u001b[0m \u001b[0;34m=\u001b[0m \u001b[0;36m1\u001b[0m \u001b[0;32mif\u001b[0m \u001b[0mis_valid_placement\u001b[0m \u001b[0;32melse\u001b[0m \u001b[0;34m-\u001b[0m\u001b[0;36m1\u001b[0m\u001b[0;34m\u001b[0m\u001b[0;34m\u001b[0m\u001b[0m\n\u001b[1;32m     39\u001b[0m \u001b[0;34m\u001b[0m\u001b[0m\n",
            "\u001b[0;31mNameError\u001b[0m: name 'updated_sudoku_board' is not defined"
          ]
        }
      ],
      "source": [
        "import numpy as np\n",
        "import random\n",
        "\n",
        "class QLearningSudokuSolver:\n",
        "    def __init__(self, n=4, alpha=0.1, gamma=0.9, epsilon=0.1):\n",
        "        self.n = n  # Size of the Sudoku grid (n x n)\n",
        "        self.alpha = alpha  # Learning rate\n",
        "        self.gamma = gamma  # Discount factor\n",
        "        self.epsilon = epsilon  # Exploration rate\n",
        "        self.q_table = np.zeros((n**2, n))  # Q-table: (state, action)\n",
        "\n",
        "    def get_state(self, sudoku_board):\n",
        "        # Flatten the 2D Sudoku board into a 1D state representation\n",
        "        return np.array(sudoku_board).flatten()\n",
        "\n",
        "    def choose_action(self, state):\n",
        "        # Choose action using epsilon-greedy strategy\n",
        "        if random.uniform(0, 1) < self.epsilon:\n",
        "            return random.randint(0, self.n - 1)  # Random action\n",
        "        else:\n",
        "            return np.argmax(self.q_table[state])\n",
        "\n",
        "    def update_q_value(self, state, action, reward, next_state):\n",
        "        self.q_table[state, action] += self.alpha * (reward + self.gamma * np.max(self.q_table[next_state]) - self.q_table[state, action])\n",
        "\n",
        "    def solve(self, sudoku_board, max_episodes=1000):\n",
        "        for episode in range(max_episodes):\n",
        "            state = self.get_state(sudoku_board)\n",
        "            done = False\n",
        "\n",
        "            while not done:\n",
        "                action = self.choose_action(state)\n",
        "                # Perform action and observe the reward and next state\n",
        "                # Here we're assuming a simple reward scheme where valid placements get a reward of 1\n",
        "                # and invalid placements get a reward of -1\n",
        "                # Update the Sudoku board with the chosen action\n",
        "                next_state = self.get_state(updated_sudoku_board)\n",
        "                reward = 1 if is_valid_placement else -1\n",
        "\n",
        "                self.update_q_value(state, action, reward, next_state)\n",
        "\n",
        "                state = next_state\n",
        "\n",
        "                # Check if the Sudoku is solved\n",
        "                done = check_sudoku_solved(sudoku_board)\n",
        "\n",
        "        return sudoku_board\n",
        "\n",
        "# Helper function to check if the Sudoku is solved\n",
        "def check_sudoku_solved(sudoku_board):\n",
        "    # Implement the logic to check if the Sudoku is solved\n",
        "    # Return True if solved, False otherwise\n",
        "    pass\n",
        "\n",
        "# Example usage\n",
        "if __name__ == \"__main__\":\n",
        "    sudoku_solver = QLearningSudokuSolver()\n",
        "    # Initialize a Sudoku puzzle (4x4 grid)\n",
        "    sudoku_puzzle = [\n",
        "        [0, 0, 0, 0],\n",
        "        [0, 0, 0, 0],\n",
        "        [0, 0, 0, 0],\n",
        "        [0, 0, 0, 0]\n",
        "    ]\n",
        "\n",
        "    solved_sudoku = sudoku_solver.solve(sudoku_puzzle)\n",
        "    print(\"Solved Sudoku:\")\n",
        "    print(np.array(solved_sudoku))\n"
      ]
    }
  ]
}