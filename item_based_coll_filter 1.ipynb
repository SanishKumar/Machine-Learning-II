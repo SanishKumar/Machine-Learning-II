{
  "nbformat": 4,
  "nbformat_minor": 0,
  "metadata": {
    "colab": {
      "provenance": []
    },
    "kernelspec": {
      "name": "python3",
      "display_name": "Python 3"
    },
    "language_info": {
      "name": "python"
    }
  },
  "cells": [
    {
      "cell_type": "code",
      "execution_count": null,
      "metadata": {
        "colab": {
          "base_uri": "https://localhost:8080/"
        },
        "id": "ZidaDuEB92pf",
        "outputId": "e47d396e-740a-4c84-a214-d6ce990b4431"
      },
      "outputs": [
        {
          "output_type": "stream",
          "name": "stdout",
          "text": [
            "Recommended items for the target user:\n",
            "Item 3\n",
            "Item 0\n",
            "Item 1\n"
          ]
        }
      ],
      "source": [
        "import numpy as np\n",
        "from sklearn.metrics.pairwise import cosine_similarity\n",
        "\n",
        "# Sample user-item interaction matrix (rows: users, columns: items)\n",
        "user_item_matrix = np.array([\n",
        "    [5, 3, 0, 1],\n",
        "    [4, 0, 4, 0],\n",
        "    [0, 2, 1, 4],\n",
        "    [1, 0, 5, 4]\n",
        "])\n",
        "\n",
        "# Transpose the user-item matrix to get item-item similarity\n",
        "item_similarity = cosine_similarity(user_item_matrix.T)\n",
        "\n",
        "# Function to generate recommendations for a target user based on items\n",
        "def get_item_based_recommendations(user_id, item_similarity, user_item_matrix,\n",
        "                                   num_recommendations=3):\n",
        "    # Get user's interactions\n",
        "    user_interactions = user_item_matrix[user_id]\n",
        "\n",
        "    # Get items that the user has not interacted with (rating = 0)\n",
        "    unrated_items = np.where(user_interactions == 0)[0]\n",
        "\n",
        "    # Generate recommendations based on similar items\n",
        "    recommendations = []\n",
        "    for item in unrated_items:\n",
        "        item_similarity_scores = item_similarity[item]\n",
        "        similar_items_sorted = np.argsort(item_similarity_scores)[::-1]\n",
        "        for similar_item in similar_items_sorted:\n",
        "            if user_item_matrix[user_id, similar_item] > 0:\n",
        "                recommendations.append((similar_item,\n",
        "                                        item_similarity_scores[similar_item]))\n",
        "\n",
        "    # Sort recommendations by similarity score (higher score first)\n",
        "    recommendations.sort(key=lambda x: x[1], reverse=True)\n",
        "\n",
        "    # Extract recommended items\n",
        "    recommended_items = [item for item, _ in recommendations[:num_recommendations]]\n",
        "    return recommended_items\n",
        "\n",
        "# Sample target user (index)\n",
        "target_user_id = 0\n",
        "\n",
        "# Get recommendations for the target user\n",
        "recommendations = get_item_based_recommendations(target_user_id,\n",
        "                                                 item_similarity,\n",
        "                                                 user_item_matrix)\n",
        "\n",
        "# Display recommended items for the target user\n",
        "print(\"Recommended items for the target user:\")\n",
        "for item_id in recommendations:\n",
        "    print(f\"Item {item_id}\")\n"
      ]
    }
  ]
}