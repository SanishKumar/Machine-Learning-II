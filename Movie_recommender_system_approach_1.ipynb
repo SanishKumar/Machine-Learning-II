{
  "nbformat": 4,
  "nbformat_minor": 0,
  "metadata": {
    "colab": {
      "provenance": []
    },
    "kernelspec": {
      "name": "python3",
      "display_name": "Python 3"
    },
    "language_info": {
      "name": "python"
    }
  },
  "cells": [
    {
      "cell_type": "code",
      "execution_count": null,
      "metadata": {
        "colab": {
          "base_uri": "https://localhost:8080/"
        },
        "id": "hBHxCOv72nEx",
        "outputId": "90f5f868-4c9e-4d77-b294-fb2ee4bf9fc3"
      },
      "outputs": [
        {
          "output_type": "stream",
          "name": "stdout",
          "text": [
            "movie_id    1    2    3    4    5\n",
            "user_id                          \n",
            "1         5.0  4.0  0.0  0.0  0.0\n",
            "2         0.0  0.0  4.0  3.0  0.0\n",
            "3         0.0  0.0  0.0  0.0  5.0\n",
            "[[1. 1. 0. 0. 0.]\n",
            " [1. 1. 0. 0. 0.]\n",
            " [0. 0. 1. 1. 0.]\n",
            " [0. 0. 1. 1. 0.]\n",
            " [0. 0. 0. 0. 1.]]\n",
            "Recommended movies for user 1: ['Movie A', 'Movie B', 'Movie C', 'Movie D']\n"
          ]
        }
      ],
      "source": [
        "import pandas as pd\n",
        "from sklearn.metrics.pairwise import cosine_similarity\n",
        "\n",
        "# Sample movie data with genres and ratings\n",
        "movies_data = {\n",
        "    'movie_id': [1, 2, 3, 4, 5],\n",
        "    'title': ['Movie A', 'Movie B', 'Movie C', 'Movie D', 'Movie E'],\n",
        "    'genres': ['Action|Adventure', 'Drama|Romance', 'Action|Sci-Fi',\n",
        "               'Drama|Thriller', 'Comedy']\n",
        "}\n",
        "\n",
        "# Sample user ratings data\n",
        "ratings_data = {\n",
        "    'user_id': [1, 1, 2, 2, 3],\n",
        "    'movie_id': [1, 2, 3, 4, 5],  # Adjusted movie IDs to match the movie_data\n",
        "    'rating': [5, 4, 4, 3, 5]\n",
        "}\n",
        "\n",
        "# Convert movie and ratings data to pandas DataFrames\n",
        "movies_df = pd.DataFrame(movies_data)\n",
        "ratings_df = pd.DataFrame(ratings_data)\n",
        "\n",
        "# Create a user movie rating matrix\n",
        "user_movie_ratings = ratings_df.pivot(index='user_id', columns='movie_id',\n",
        "                                      values='rating').fillna(0)\n",
        "print(user_movie_ratings)\n",
        "# Calculate movie similarities based on genres\n",
        "genres_similarity = cosine_similarity(user_movie_ratings.values.T)\n",
        "print(genres_similarity)\n",
        "# Function to get movie recommendations based on ratings\n",
        "def get_movie_recommendations(movie_id, num_recommendations=5):\n",
        "    similar_movies = list(enumerate(genres_similarity[movie_id]))\n",
        "    sorted_similar_movies = sorted(similar_movies, key=lambda x: x[1],\n",
        "                                   reverse=True)\n",
        "    recommended_movies = []\n",
        "    for movie in sorted_similar_movies[1:num_recommendations + 1]:\n",
        "        movie_id, _ = movie\n",
        "        recommended_movies.append(movies_df.loc\n",
        "         [movies_df['movie_id'] == movie_id, 'title'].values[0])\n",
        "    return recommended_movies\n",
        "\n",
        "# Sample user's movie ratings\n",
        "user_id = 1\n",
        "\n",
        "# Get unrated movies for the user\n",
        "unrated_movies = [movie_id for movie_id in movies_df['movie_id'].values\n",
        "                  if movie_id not in user_movie_ratings.columns]\n",
        "\n",
        "# Recommend movies to the user based on the highest-rated movie\n",
        "highest_rated_movie_id = ratings_df[ratings_df['user_id'] == user_id]\n",
        "          ['movie_id'].iloc[0]\n",
        "recommended_movies = get_movie_recommendations(highest_rated_movie_id)\n",
        "\n",
        "# Display recommended movies\n",
        "print(f\"Recommended movies for user {user_id}: {recommended_movies}\")\n"
      ]
    },
    {
      "cell_type": "code",
      "source": [],
      "metadata": {
        "id": "HZhPrz2ao4j0"
      },
      "execution_count": null,
      "outputs": []
    }
  ]
}