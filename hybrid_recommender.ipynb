{
  "nbformat": 4,
  "nbformat_minor": 0,
  "metadata": {
    "colab": {
      "provenance": []
    },
    "kernelspec": {
      "name": "python3",
      "display_name": "Python 3"
    },
    "language_info": {
      "name": "python"
    }
  },
  "cells": [
    {
      "cell_type": "code",
      "source": [
        "import pandas as pd\n",
        "from sklearn.feature_extraction.text import TfidfVectorizer\n",
        "from sklearn.metrics.pairwise import linear_kernel\n",
        "from sklearn.neighbors import NearestNeighbors\n",
        "\n",
        "# Sample movie dataset\n",
        "data = {\n",
        "    'movie_id': [1, 2, 3, 4, 5],\n",
        "    'title': ['Movie A', 'Movie B', 'Movie C', 'Movie D', 'Movie E'],\n",
        "    'genres': ['Action', 'Comedy', 'Drama', 'Action|Drama', 'Comedy|Drama']\n",
        "}\n",
        "\n",
        "movies = pd.DataFrame(data)\n",
        "\n",
        "# Sample user ratings dataset\n",
        "user_ratings = {\n",
        "    'user_id': [1, 1, 2, 2, 2],\n",
        "    'movie_id': [1, 2, 3, 4, 5],\n",
        "    'rating': [4, 5, 3, 4, 2]\n",
        "}\n",
        "\n",
        "ratings = pd.DataFrame(user_ratings)\n",
        "\n",
        "# Content-Based Filtering (using movie genres)\n",
        "tfidf_vectorizer = TfidfVectorizer(stop_words='english')\n",
        "tfidf_matrix = tfidf_vectorizer.fit_transform(movies['genres'])\n",
        "cosine_sim = linear_kernel(tfidf_matrix, tfidf_matrix)\n",
        "\n",
        "# Collaborative Filtering (using Nearest Neighbors)\n",
        "knn_model = NearestNeighbors(n_neighbors=2, metric='cosine')\n",
        "knn_model.fit(tfidf_matrix)\n",
        "\n",
        "# Hybrid Recommender\n",
        "def hybrid_recommendations(movie_title, top_n=3):\n",
        "    # Find the movie in the dataset\n",
        "    movie_idx = movies.index[movies['title'] == movie_title].tolist()[0]\n",
        "\n",
        "    # Content-Based Recommendations\n",
        "    content_scores = list(enumerate(cosine_sim[movie_idx]))\n",
        "    content_scores = sorted(content_scores, key=lambda x: x[1], reverse=True)\n",
        "                                                          [1:top_n + 1]\n",
        "\n",
        "    # Collaborative Filtering Recommendations\n",
        "    _, cf_indices = knn_model.kneighbors(tfidf_matrix[movie_idx],\n",
        "                                         n_neighbors=top_n + 1)\n",
        "    cf_indices = cf_indices[0][1:]\n",
        "\n",
        "    # Combine both recommendations\n",
        "    hybrid_movie_indices = list(set(cf_indices).union([x[0]\n",
        "                                                       for x in content_scores]))\n",
        "\n",
        "    return movies['title'].iloc[hybrid_movie_indices]\n",
        "\n",
        "# Example usage\n",
        "movie_title = 'Movie A'\n",
        "recommendations = hybrid_recommendations(movie_title)\n",
        "print(f\"Top recommendations for '{movie_title}':\")\n",
        "for i, movie in enumerate(recommendations):\n",
        "    print(f\"{i + 1}. {movie}\")\n"
      ],
      "metadata": {
        "colab": {
          "base_uri": "https://localhost:8080/"
        },
        "id": "Ln4a9CccgFK1",
        "outputId": "0c85cc37-2a18-4d25-e7cc-40809d0e957f"
      },
      "execution_count": null,
      "outputs": [
        {
          "output_type": "stream",
          "name": "stdout",
          "text": [
            "Top recommendations for 'Movie A':\n",
            "1. Movie B\n",
            "2. Movie C\n",
            "3. Movie D\n"
          ]
        }
      ]
    }
  ]
}