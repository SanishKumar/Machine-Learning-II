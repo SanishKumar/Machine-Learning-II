{
  "nbformat": 4,
  "nbformat_minor": 0,
  "metadata": {
    "colab": {
      "provenance": []
    },
    "kernelspec": {
      "name": "python3",
      "display_name": "Python 3"
    },
    "language_info": {
      "name": "python"
    }
  },
  "cells": [
    {
      "cell_type": "code",
      "execution_count": null,
      "metadata": {
        "colab": {
          "base_uri": "https://localhost:8080/"
        },
        "id": "MGA5Tr-6_o1R",
        "outputId": "0ca31687-179d-4874-9770-6c587c0c3921"
      },
      "outputs": [
        {
          "output_type": "stream",
          "name": "stdout",
          "text": [
            "Recommended items for the target user:\n",
            "Item 0\n",
            "Item 1\n",
            "Item 2\n"
          ]
        }
      ],
      "source": [
        "import numpy as np\n",
        "from scipy.sparse.linalg import svds\n",
        "\n",
        "# Sample user-item interaction matrix (rows: users, columns: items)\n",
        "user_item_matrix = np.array([\n",
        "    [5.0, 3.0, 0.0, 1.0],\n",
        "    [4.0, 0.0, 4.0, 0.0],\n",
        "    [0.0, 2.0, 1.0, 4.0],\n",
        "    [1.0, 0.0, 5.0, 4.0]\n",
        "])\n",
        "\n",
        "# Perform Singular Value Decomposition (SVD) to factorize the matrix\n",
        "U, sigma, Vt = svds(user_item_matrix, k=2)  # Adjust k for desired number of features\n",
        "\n",
        "# Convert sigma to diagonal matrix\n",
        "sigma_diag = np.diag(sigma)\n",
        "\n",
        "# Reconstruct the user-item matrix using the factorized matrices\n",
        "predicted_user_item_matrix = np.dot(np.dot(U, sigma_diag), Vt)\n",
        "\n",
        "# Function to generate recommendations for a target user\n",
        "def get_model_based_recommendations(user_id, predicted_user_item_matrix,\n",
        "                                    num_recommendations=3):\n",
        "    # Get predicted user-item interactions\n",
        "    predicted_interactions = predicted_user_item_matrix[user_id]\n",
        "\n",
        "    # Get items that the user has not interacted with (rating = 0)\n",
        "    unrated_items = np.where(predicted_interactions == 0)[0]\n",
        "\n",
        "    # Sort unrated items by predicted interaction (higher predicted interaction first)\n",
        "    sorted_unrated_items = np.argsort(predicted_interactions)[::-1]\n",
        "\n",
        "    # Extract recommended items\n",
        "    recommended_items = [item for item in sorted_unrated_items[:num_recommendations]]\n",
        "    return recommended_items\n",
        "\n",
        "# Sample target user (index)\n",
        "target_user_id = 0\n",
        "\n",
        "# Get recommendations for the target user\n",
        "recommendations = get_model_based_recommendations(target_user_id,\n",
        "                                                  predicted_user_item_matrix)\n",
        "\n",
        "# Display recommended items for the target user\n",
        "print(\"Recommended items for the target user:\")\n",
        "for item_id in recommendations:\n",
        "    print(f\"Item {item_id}\")\n"
      ]
    },
    {
      "cell_type": "code",
      "source": [],
      "metadata": {
        "id": "edS3ilrRx8ER"
      },
      "execution_count": null,
      "outputs": []
    }
  ]
}