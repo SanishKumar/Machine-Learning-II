{
  "nbformat": 4,
  "nbformat_minor": 0,
  "metadata": {
    "colab": {
      "provenance": []
    },
    "kernelspec": {
      "name": "python3",
      "display_name": "Python 3"
    },
    "language_info": {
      "name": "python"
    }
  },
  "cells": [
    {
      "cell_type": "code",
      "source": [
        "import numpy as np\n",
        "\n",
        "# Define constants for the environment\n",
        "GRID_SIZE = 3\n",
        "NUM_ACTIONS = 4\n",
        "LEARNING_RATE = 0.1\n",
        "DISCOUNT_FACTOR = 0.9\n",
        "NUM_EPISODES = 1000\n",
        "\n",
        "# Define the rewards and the environment\n",
        "rewards = np.array([[-1, -1, -1], [-1, -5, -1], [-1, -1, 10]])\n",
        "\n",
        "# Initialize Q-table with zeros\n",
        "Q_table = np.zeros((GRID_SIZE, GRID_SIZE, NUM_ACTIONS))\n",
        "\n",
        "# Q-learning algorithm\n",
        "def q_learning():\n",
        "    for episode in range(NUM_EPISODES):\n",
        "        state = (0, 0)  # Start state\n",
        "        while state != (2, 2):  # Continue until reaching the goal\n",
        "            # Choose an action using an exploration strategy (e.g., epsilon-greedy)\n",
        "            action = np.argmax(Q_table[state])\n",
        "\n",
        "            # Perform the action and observe the next state and reward\n",
        "            next_state = state\n",
        "            if action == 0 and state[0] > 0:\n",
        "                next_state = (state[0] - 1, state[1])  # Move up\n",
        "            elif action == 1 and state[0] < GRID_SIZE - 1:\n",
        "                next_state = (state[0] + 1, state[1])  # Move down\n",
        "            elif action == 2 and state[1] > 0:\n",
        "                next_state = (state[0], state[1] - 1)  # Move left\n",
        "            elif action == 3 and state[1] < GRID_SIZE - 1:\n",
        "                next_state = (state[0], state[1] + 1)  # Move right\n",
        "\n",
        "            # Update the Q-value for the current state-action pair\n",
        "            Q_table[state][action] = (1 - LEARNING_RATE) * Q_table[state][action] + \\\n",
        "                                     LEARNING_RATE * (rewards[next_state] + DISCOUNT_FACTOR * np.max(Q_table[next_state]))\n",
        "\n",
        "            state = next_state  # Move to the next state\n",
        "\n",
        "# Run Q-learning\n",
        "q_learning()\n",
        "\n",
        "# Display the Q-table\n",
        "print(\"Q-table:\")\n",
        "print(Q_table)\n"
      ],
      "metadata": {
        "colab": {
          "base_uri": "https://localhost:8080/"
        },
        "id": "ygLLLecuTHfp",
        "outputId": "03db2441-0892-49f6-8886-4f72145d4341"
      },
      "execution_count": null,
      "outputs": [
        {
          "output_type": "stream",
          "name": "stdout",
          "text": [
            "Q-table:\n",
            "[[[-1.22478977 -1.19156074 -1.22478977  4.58      ]\n",
            "  [-0.58519851 -0.9311441  -0.68124711  6.2       ]\n",
            "  [-0.199       8.         -0.21601    -0.199     ]]\n",
            "\n",
            " [[-0.65681037 -0.3272604  -0.58519851 -0.95      ]\n",
            "  [-0.1        -0.1        -0.109       0.457118  ]\n",
            "  [-0.1        10.          0.          0.        ]]\n",
            "\n",
            " [[-0.199      -0.199      -0.199       2.00621761]\n",
            "  [-0.5        -0.1        -0.109       6.86189404]\n",
            "  [ 0.          0.          0.          0.        ]]]\n"
          ]
        }
      ]
    }
  ]
}